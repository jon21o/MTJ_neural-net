{
    "cells": [
        {
            "cell_type": "code",
            "execution_count": 18,
            "metadata": {},
            "outputs": [],
            "source": [
                "from bokeh.plotting import output_notebook, show\n",
                "from bokeh.models import LinearColorMapper, ColorBar\n",
                "from generic_create_bokeh_fig import create_generic_fig\n",
                "import numpy as np\n",
                "import xarray as xr\n",
                "\n",
                "# This is a simple notebook to demonstrate the data analysis workflow with xrDataArrays and Bokeh for plotting.\n",
                "# A small dataset has been randomly generated and plotted to show functionality."
            ]
        },
        {
            "cell_type": "code",
            "execution_count": 9,
            "metadata": {},
            "outputs": [
                {
                    "data": {
                        "text/html": [
                            "\n",
                            "    <div class=\"bk-root\">\n",
                            "        <a href=\"https://bokeh.org\" target=\"_blank\" class=\"bk-logo bk-logo-small bk-logo-notebook\"></a>\n",
                            "        <span id=\"1278\">Loading BokehJS ...</span>\n",
                            "    </div>"
                        ]
                    },
                    "metadata": {},
                    "output_type": "display_data"
                },
                {
                    "data": {
                        "application/javascript": "\n(function(root) {\n  function now() {\n    return new Date();\n  }\n\n  var force = true;\n\n  if (typeof root._bokeh_onload_callbacks === \"undefined\" || force === true) {\n    root._bokeh_onload_callbacks = [];\n    root._bokeh_is_loading = undefined;\n  }\n\n  var JS_MIME_TYPE = 'application/javascript';\n  var HTML_MIME_TYPE = 'text/html';\n  var EXEC_MIME_TYPE = 'application/vnd.bokehjs_exec.v0+json';\n  var CLASS_NAME = 'output_bokeh rendered_html';\n\n  /**\n   * Render data to the DOM node\n   */\n  function render(props, node) {\n    var script = document.createElement(\"script\");\n    node.appendChild(script);\n  }\n\n  /**\n   * Handle when an output is cleared or removed\n   */\n  function handleClearOutput(event, handle) {\n    var cell = handle.cell;\n\n    var id = cell.output_area._bokeh_element_id;\n    var server_id = cell.output_area._bokeh_server_id;\n    // Clean up Bokeh references\n    if (id != null && id in Bokeh.index) {\n      Bokeh.index[id].model.document.clear();\n      delete Bokeh.index[id];\n    }\n\n    if (server_id !== undefined) {\n      // Clean up Bokeh references\n      var cmd = \"from bokeh.io.state import curstate; print(curstate().uuid_to_server['\" + server_id + \"'].get_sessions()[0].document.roots[0]._id)\";\n      cell.notebook.kernel.execute(cmd, {\n        iopub: {\n          output: function(msg) {\n            var id = msg.content.text.trim();\n            if (id in Bokeh.index) {\n              Bokeh.index[id].model.document.clear();\n              delete Bokeh.index[id];\n            }\n          }\n        }\n      });\n      // Destroy server and session\n      var cmd = \"import bokeh.io.notebook as ion; ion.destroy_server('\" + server_id + \"')\";\n      cell.notebook.kernel.execute(cmd);\n    }\n  }\n\n  /**\n   * Handle when a new output is added\n   */\n  function handleAddOutput(event, handle) {\n    var output_area = handle.output_area;\n    var output = handle.output;\n\n    // limit handleAddOutput to display_data with EXEC_MIME_TYPE content only\n    if ((output.output_type != \"display_data\") || (!output.data.hasOwnProperty(EXEC_MIME_TYPE))) {\n      return\n    }\n\n    var toinsert = output_area.element.find(\".\" + CLASS_NAME.split(' ')[0]);\n\n    if (output.metadata[EXEC_MIME_TYPE][\"id\"] !== undefined) {\n      toinsert[toinsert.length - 1].firstChild.textContent = output.data[JS_MIME_TYPE];\n      // store reference to embed id on output_area\n      output_area._bokeh_element_id = output.metadata[EXEC_MIME_TYPE][\"id\"];\n    }\n    if (output.metadata[EXEC_MIME_TYPE][\"server_id\"] !== undefined) {\n      var bk_div = document.createElement(\"div\");\n      bk_div.innerHTML = output.data[HTML_MIME_TYPE];\n      var script_attrs = bk_div.children[0].attributes;\n      for (var i = 0; i < script_attrs.length; i++) {\n        toinsert[toinsert.length - 1].firstChild.setAttribute(script_attrs[i].name, script_attrs[i].value);\n      }\n      // store reference to server id on output_area\n      output_area._bokeh_server_id = output.metadata[EXEC_MIME_TYPE][\"server_id\"];\n    }\n  }\n\n  function register_renderer(events, OutputArea) {\n\n    function append_mime(data, metadata, element) {\n      // create a DOM node to render to\n      var toinsert = this.create_output_subarea(\n        metadata,\n        CLASS_NAME,\n        EXEC_MIME_TYPE\n      );\n      this.keyboard_manager.register_events(toinsert);\n      // Render to node\n      var props = {data: data, metadata: metadata[EXEC_MIME_TYPE]};\n      render(props, toinsert[toinsert.length - 1]);\n      element.append(toinsert);\n      return toinsert\n    }\n\n    /* Handle when an output is cleared or removed */\n    events.on('clear_output.CodeCell', handleClearOutput);\n    events.on('delete.Cell', handleClearOutput);\n\n    /* Handle when a new output is added */\n    events.on('output_added.OutputArea', handleAddOutput);\n\n    /**\n     * Register the mime type and append_mime function with output_area\n     */\n    OutputArea.prototype.register_mime_type(EXEC_MIME_TYPE, append_mime, {\n      /* Is output safe? */\n      safe: true,\n      /* Index of renderer in `output_area.display_order` */\n      index: 0\n    });\n  }\n\n  // register the mime type if in Jupyter Notebook environment and previously unregistered\n  if (root.Jupyter !== undefined) {\n    var events = require('base/js/events');\n    var OutputArea = require('notebook/js/outputarea').OutputArea;\n\n    if (OutputArea.prototype.mime_types().indexOf(EXEC_MIME_TYPE) == -1) {\n      register_renderer(events, OutputArea);\n    }\n  }\n\n  \n  if (typeof (root._bokeh_timeout) === \"undefined\" || force === true) {\n    root._bokeh_timeout = Date.now() + 5000;\n    root._bokeh_failed_load = false;\n  }\n\n  var NB_LOAD_WARNING = {'data': {'text/html':\n     \"<div style='background-color: #fdd'>\\n\"+\n     \"<p>\\n\"+\n     \"BokehJS does not appear to have successfully loaded. If loading BokehJS from CDN, this \\n\"+\n     \"may be due to a slow or bad network connection. Possible fixes:\\n\"+\n     \"</p>\\n\"+\n     \"<ul>\\n\"+\n     \"<li>re-rerun `output_notebook()` to attempt to load from CDN again, or</li>\\n\"+\n     \"<li>use INLINE resources instead, as so:</li>\\n\"+\n     \"</ul>\\n\"+\n     \"<code>\\n\"+\n     \"from bokeh.resources import INLINE\\n\"+\n     \"output_notebook(resources=INLINE)\\n\"+\n     \"</code>\\n\"+\n     \"</div>\"}};\n\n  function display_loaded() {\n    var el = document.getElementById(\"1278\");\n    if (el != null) {\n      el.textContent = \"BokehJS is loading...\";\n    }\n    if (root.Bokeh !== undefined) {\n      if (el != null) {\n        el.textContent = \"BokehJS \" + root.Bokeh.version + \" successfully loaded.\";\n      }\n    } else if (Date.now() < root._bokeh_timeout) {\n      setTimeout(display_loaded, 100)\n    }\n  }\n\n\n  function run_callbacks() {\n    try {\n      root._bokeh_onload_callbacks.forEach(function(callback) {\n        if (callback != null)\n          callback();\n      });\n    } finally {\n      delete root._bokeh_onload_callbacks\n    }\n    console.debug(\"Bokeh: all callbacks have finished\");\n  }\n\n  function load_libs(css_urls, js_urls, callback) {\n    if (css_urls == null) css_urls = [];\n    if (js_urls == null) js_urls = [];\n\n    root._bokeh_onload_callbacks.push(callback);\n    if (root._bokeh_is_loading > 0) {\n      console.debug(\"Bokeh: BokehJS is being loaded, scheduling callback at\", now());\n      return null;\n    }\n    if (js_urls == null || js_urls.length === 0) {\n      run_callbacks();\n      return null;\n    }\n    console.debug(\"Bokeh: BokehJS not loaded, scheduling load and callback at\", now());\n    root._bokeh_is_loading = css_urls.length + js_urls.length;\n\n    function on_load() {\n      root._bokeh_is_loading--;\n      if (root._bokeh_is_loading === 0) {\n        console.debug(\"Bokeh: all BokehJS libraries/stylesheets loaded\");\n        run_callbacks()\n      }\n    }\n\n    function on_error() {\n      console.error(\"failed to load \" + url);\n    }\n\n    for (var i = 0; i < css_urls.length; i++) {\n      var url = css_urls[i];\n      const element = document.createElement(\"link\");\n      element.onload = on_load;\n      element.onerror = on_error;\n      element.rel = \"stylesheet\";\n      element.type = \"text/css\";\n      element.href = url;\n      console.debug(\"Bokeh: injecting link tag for BokehJS stylesheet: \", url);\n      document.body.appendChild(element);\n    }\n\n    for (var i = 0; i < js_urls.length; i++) {\n      var url = js_urls[i];\n      var element = document.createElement('script');\n      element.onload = on_load;\n      element.onerror = on_error;\n      element.async = false;\n      element.src = url;\n      console.debug(\"Bokeh: injecting script tag for BokehJS library: \", url);\n      document.head.appendChild(element);\n    }\n  };var element = document.getElementById(\"1278\");\n  if (element == null) {\n    console.error(\"Bokeh: ERROR: autoload.js configured with elementid '1278' but no matching script tag was found. \")\n    return false;\n  }\n\n  function inject_raw_css(css) {\n    const element = document.createElement(\"style\");\n    element.appendChild(document.createTextNode(css));\n    document.body.appendChild(element);\n  }\n\n  \n  var js_urls = [\"https://cdn.pydata.org/bokeh/release/bokeh-1.4.0.min.js\", \"https://cdn.pydata.org/bokeh/release/bokeh-widgets-1.4.0.min.js\", \"https://cdn.pydata.org/bokeh/release/bokeh-tables-1.4.0.min.js\", \"https://cdn.pydata.org/bokeh/release/bokeh-gl-1.4.0.min.js\"];\n  var css_urls = [];\n  \n\n  var inline_js = [\n    function(Bokeh) {\n      Bokeh.set_log_level(\"info\");\n    },\n    function(Bokeh) {\n    \n    \n    }\n  ];\n\n  function run_inline_js() {\n    \n    if (root.Bokeh !== undefined || force === true) {\n      \n    for (var i = 0; i < inline_js.length; i++) {\n      inline_js[i].call(root, root.Bokeh);\n    }\n    if (force === true) {\n        display_loaded();\n      }} else if (Date.now() < root._bokeh_timeout) {\n      setTimeout(run_inline_js, 100);\n    } else if (!root._bokeh_failed_load) {\n      console.log(\"Bokeh: BokehJS failed to load within specified timeout.\");\n      root._bokeh_failed_load = true;\n    } else if (force !== true) {\n      var cell = $(document.getElementById(\"1278\")).parents('.cell').data().cell;\n      cell.output_area.append_execute_result(NB_LOAD_WARNING)\n    }\n\n  }\n\n  if (root._bokeh_is_loading === 0) {\n    console.debug(\"Bokeh: BokehJS loaded, going straight to plotting\");\n    run_inline_js();\n  } else {\n    load_libs(css_urls, js_urls, function() {\n      console.debug(\"Bokeh: BokehJS plotting callback run at\", now());\n      run_inline_js();\n    });\n  }\n}(window));",
                        "application/vnd.bokehjs_load.v0+json": ""
                    },
                    "metadata": {},
                    "output_type": "display_data"
                }
            ],
            "source": [
                "output_notebook()"
            ]
        },
        {
            "cell_type": "code",
            "execution_count": 10,
            "metadata": {},
            "outputs": [],
            "source": [
                "from bokeh.palettes import Viridis256"
            ]
        },
        {
            "cell_type": "code",
            "execution_count": 15,
            "metadata": {},
            "outputs": [],
            "source": [
                "# create a simple 4-dimensional dataset of random numbers between 0-1\n",
                "# give the dimensions names, similar to pandas dataframes, so they can be recalled by name or number\n",
                "# also supply coordinates, specific indices within a dimension, for the measured quantity dimension with names (voltage and current)\n",
                "# include attributes, or metadata, in the xrDataArray\n",
                "\n",
                "data = xr.DataArray(\n",
                "    np.random.rand(5, 5, 2, 4),\n",
                "    dims=(\"row\", \"col\", \"measured_quantity\", \"cycle_num\"),\n",
                "    coords={\n",
                "        \"measured_quantity\": [\n",
                "            \"voltage\",\n",
                "            \"current\",\n",
                "        ]\n",
                "    },\n",
                "    attrs=dict(\n",
                "        measurement_title=\"test\",\n",
                "        measurement_time=\"2 s\",\n",
                "    ),\n",
                ")"
            ]
        },
        {
            "cell_type": "code",
            "execution_count": 16,
            "metadata": {},
            "outputs": [
                {
                    "data": {
                        "text/html": [
                            "\n",
                            "\n",
                            "\n",
                            "\n",
                            "\n",
                            "\n",
                            "  <div class=\"bk-root\" id=\"af1c179c-f1f9-46d4-a17d-d51cc5fab2d8\" data-root-id=\"1279\"></div>\n"
                        ]
                    },
                    "metadata": {},
                    "output_type": "display_data"
                },
                {
                    "data": {
                        "application/javascript": "(function(root) {\n  function embed_document(root) {\n    \n  var docs_json = {\"4a07ae2c-0d50-425c-9932-86c45ec7f409\":{\"roots\":{\"references\":[{\"attributes\":{\"above\":[{\"id\":\"1316\",\"type\":\"LinearAxis\"}],\"below\":[{\"id\":\"1288\",\"type\":\"LinearAxis\"}],\"center\":[{\"id\":\"1292\",\"type\":\"Grid\"},{\"id\":\"1297\",\"type\":\"Grid\"}],\"frame_height\":350,\"frame_width\":350,\"left\":[{\"id\":\"1293\",\"type\":\"LinearAxis\"}],\"min_border_bottom\":80,\"min_border_left\":80,\"min_border_right\":40,\"min_border_top\":40,\"output_backend\":\"svg\",\"renderers\":[{\"id\":\"1324\",\"type\":\"GlyphRenderer\"}],\"right\":[{\"id\":\"1319\",\"type\":\"LinearAxis\"}],\"title\":{\"id\":\"1351\",\"type\":\"Title\"},\"toolbar\":{\"id\":\"1306\",\"type\":\"Toolbar\"},\"x_range\":{\"id\":\"1280\",\"type\":\"DataRange1d\"},\"x_scale\":{\"id\":\"1284\",\"type\":\"LinearScale\"},\"y_range\":{\"id\":\"1282\",\"type\":\"DataRange1d\"},\"y_scale\":{\"id\":\"1286\",\"type\":\"LinearScale\"}},\"id\":\"1279\",\"subtype\":\"Figure\",\"type\":\"Plot\"},{\"attributes\":{\"callback\":null},\"id\":\"1282\",\"type\":\"DataRange1d\"},{\"attributes\":{},\"id\":\"1284\",\"type\":\"LinearScale\"},{\"attributes\":{\"axis_label\":\"Voltage\",\"axis_label_text_color\":{\"value\":\"black\"},\"axis_label_text_font\":\"Helvetica\",\"axis_label_text_font_size\":{\"value\":\"28.0px\"},\"axis_label_text_font_style\":\"normal\",\"axis_line_width\":{\"value\":3},\"formatter\":{\"id\":\"1354\",\"type\":\"BasicTickFormatter\"},\"major_label_standoff\":10,\"major_label_text_color\":{\"value\":\"black\"},\"major_label_text_font_size\":{\"value\":\"18.666666666666668px\"},\"major_tick_in\":0,\"major_tick_line_width\":{\"value\":3},\"major_tick_out\":20,\"minor_tick_in\":10,\"minor_tick_line_color\":{\"value\":null},\"minor_tick_line_width\":{\"value\":3},\"minor_tick_out\":0,\"ticker\":{\"id\":\"1289\",\"type\":\"BasicTicker\"}},\"id\":\"1288\",\"type\":\"LinearAxis\"},{\"attributes\":{\"fill_alpha\":{\"value\":0.1},\"fill_color\":{\"value\":\"#1f77b4\"},\"line_alpha\":{\"value\":0.1},\"line_color\":{\"value\":\"#1f77b4\"},\"marker\":{\"value\":\"square\"},\"size\":{\"units\":\"screen\",\"value\":12},\"x\":{\"field\":\"x\"},\"y\":{\"field\":\"y\"}},\"id\":\"1323\",\"type\":\"Scatter\"},{\"attributes\":{},\"id\":\"1286\",\"type\":\"LinearScale\"},{\"attributes\":{\"fill_color\":{\"value\":\"#1f77b4\"},\"line_color\":{\"value\":\"#1f77b4\"},\"marker\":{\"value\":\"square\"},\"size\":{\"units\":\"screen\",\"value\":12},\"x\":{\"field\":\"x\"},\"y\":{\"field\":\"y\"}},\"id\":\"1322\",\"type\":\"Scatter\"},{\"attributes\":{\"axis_line_width\":{\"value\":3},\"formatter\":{\"id\":\"1352\",\"type\":\"BasicTickFormatter\"},\"major_label_text_color\":{\"value\":null},\"major_label_text_font_size\":{\"value\":\"0pt\"},\"major_tick_in\":0,\"major_tick_line_color\":{\"value\":null},\"major_tick_line_width\":{\"value\":3},\"major_tick_out\":20,\"minor_tick_in\":10,\"minor_tick_line_color\":{\"value\":null},\"minor_tick_line_width\":{\"value\":3},\"minor_tick_out\":0,\"name\":\"ax2above\",\"ticker\":{\"id\":\"1289\",\"type\":\"BasicTicker\"}},\"id\":\"1316\",\"type\":\"LinearAxis\"},{\"attributes\":{},\"id\":\"1352\",\"type\":\"BasicTickFormatter\"},{\"attributes\":{},\"id\":\"1305\",\"type\":\"SaveTool\"},{\"attributes\":{\"callback\":null},\"id\":\"1280\",\"type\":\"DataRange1d\"},{\"attributes\":{\"source\":{\"id\":\"1321\",\"type\":\"ColumnDataSource\"}},\"id\":\"1325\",\"type\":\"CDSView\"},{\"attributes\":{\"callback\":null},\"id\":\"1298\",\"type\":\"TapTool\"},{\"attributes\":{\"dimension\":1,\"grid_line_color\":null,\"ticker\":{\"id\":\"1294\",\"type\":\"BasicTicker\"}},\"id\":\"1297\",\"type\":\"Grid\"},{\"attributes\":{},\"id\":\"1304\",\"type\":\"ResetTool\"},{\"attributes\":{\"bottom_units\":\"screen\",\"fill_alpha\":{\"value\":0.5},\"fill_color\":{\"value\":\"lightgrey\"},\"left_units\":\"screen\",\"level\":\"overlay\",\"line_alpha\":{\"value\":1.0},\"line_color\":{\"value\":\"black\"},\"line_dash\":[4,4],\"line_width\":{\"value\":2},\"render_mode\":\"css\",\"right_units\":\"screen\",\"top_units\":\"screen\"},\"id\":\"1360\",\"type\":\"BoxAnnotation\"},{\"attributes\":{},\"id\":\"1300\",\"type\":\"PanTool\"},{\"attributes\":{},\"id\":\"1358\",\"type\":\"UnionRenderers\"},{\"attributes\":{\"callback\":null,\"tooltips\":[[\"index\",\"$index\"],[\"(x,y)\",\"($x, $y)\"]]},\"id\":\"1299\",\"type\":\"HoverTool\"},{\"attributes\":{\"axis_label\":\"Current\",\"axis_label_standoff\":20,\"axis_label_text_color\":{\"value\":\"black\"},\"axis_label_text_font\":\"Helvetica\",\"axis_label_text_font_size\":{\"value\":\"28.0px\"},\"axis_label_text_font_style\":\"normal\",\"axis_line_width\":{\"value\":3},\"formatter\":{\"id\":\"1356\",\"type\":\"BasicTickFormatter\"},\"major_label_standoff\":10,\"major_label_text_color\":{\"value\":\"black\"},\"major_label_text_font_size\":{\"value\":\"18.666666666666668px\"},\"major_tick_in\":0,\"major_tick_line_width\":{\"value\":3},\"major_tick_out\":20,\"minor_tick_in\":10,\"minor_tick_line_color\":{\"value\":null},\"minor_tick_line_width\":{\"value\":3},\"minor_tick_out\":0,\"ticker\":{\"id\":\"1294\",\"type\":\"BasicTicker\"}},\"id\":\"1293\",\"type\":\"LinearAxis\"},{\"attributes\":{\"grid_line_color\":null,\"ticker\":{\"id\":\"1289\",\"type\":\"BasicTicker\"}},\"id\":\"1292\",\"type\":\"Grid\"},{\"attributes\":{\"axis_line_width\":{\"value\":3},\"formatter\":{\"id\":\"1357\",\"type\":\"BasicTickFormatter\"},\"major_label_text_color\":{\"value\":null},\"major_label_text_font_size\":{\"value\":\"0pt\"},\"major_tick_in\":0,\"major_tick_line_color\":{\"value\":null},\"major_tick_line_width\":{\"value\":3},\"major_tick_out\":20,\"minor_tick_in\":10,\"minor_tick_line_color\":{\"value\":null},\"minor_tick_line_width\":{\"value\":3},\"minor_tick_out\":0,\"name\":\"ax2above\",\"ticker\":{\"id\":\"1294\",\"type\":\"BasicTicker\"}},\"id\":\"1319\",\"type\":\"LinearAxis\"},{\"attributes\":{},\"id\":\"1357\",\"type\":\"BasicTickFormatter\"},{\"attributes\":{\"overlay\":{\"id\":\"1360\",\"type\":\"BoxAnnotation\"}},\"id\":\"1301\",\"type\":\"BoxZoomTool\"},{\"attributes\":{},\"id\":\"1354\",\"type\":\"BasicTickFormatter\"},{\"attributes\":{},\"id\":\"1302\",\"type\":\"WheelZoomTool\"},{\"attributes\":{},\"id\":\"1356\",\"type\":\"BasicTickFormatter\"},{\"attributes\":{},\"id\":\"1359\",\"type\":\"Selection\"},{\"attributes\":{\"active_drag\":{\"id\":\"1300\",\"type\":\"PanTool\"},\"active_inspect\":\"auto\",\"active_multi\":null,\"active_scroll\":{\"id\":\"1302\",\"type\":\"WheelZoomTool\"},\"active_tap\":{\"id\":\"1298\",\"type\":\"TapTool\"},\"tools\":[{\"id\":\"1298\",\"type\":\"TapTool\"},{\"id\":\"1299\",\"type\":\"HoverTool\"},{\"id\":\"1300\",\"type\":\"PanTool\"},{\"id\":\"1301\",\"type\":\"BoxZoomTool\"},{\"id\":\"1302\",\"type\":\"WheelZoomTool\"},{\"id\":\"1303\",\"type\":\"UndoTool\"},{\"id\":\"1304\",\"type\":\"ResetTool\"},{\"id\":\"1305\",\"type\":\"SaveTool\"}]},\"id\":\"1306\",\"type\":\"Toolbar\"},{\"attributes\":{},\"id\":\"1303\",\"type\":\"UndoTool\"},{\"attributes\":{},\"id\":\"1289\",\"type\":\"BasicTicker\"},{\"attributes\":{},\"id\":\"1294\",\"type\":\"BasicTicker\"},{\"attributes\":{\"data_source\":{\"id\":\"1321\",\"type\":\"ColumnDataSource\"},\"glyph\":{\"id\":\"1322\",\"type\":\"Scatter\"},\"hover_glyph\":null,\"muted_glyph\":null,\"nonselection_glyph\":{\"id\":\"1323\",\"type\":\"Scatter\"},\"selection_glyph\":null,\"view\":{\"id\":\"1325\",\"type\":\"CDSView\"}},\"id\":\"1324\",\"type\":\"GlyphRenderer\"},{\"attributes\":{\"text\":\"\"},\"id\":\"1351\",\"type\":\"Title\"},{\"attributes\":{\"callback\":null,\"data\":{\"x\":{\"__ndarray__\":\"AITHOkgy6j/2ZtssV57fP8iyQMA4Vr4/dMoINEx9yz+m06URK4TlP3h0itCHAMo/c9GHtDW76z+4ogHI+ejtP5CXbAJ3Yu4/XvDoqJSn2z8ZYewyRLDmP4BeD05nlJU/CA2SKt+Hzj8L3fFLv2npPwCJIBzLt48/Hvhu2CYX7D9K+TSrrJPTP+HR8shLf+w/nId0yje3xD+7Y5VVPErtP8QUtokv4+8/tOE62xuQyD9TKLzlDEfrP0mavifquu4/teo0fk8l7z+AMEnZSF6vPxXRIDz/A+o/ECL00pWazj/B29VgYF7iP/aO9iLq/9o/6GY42Vx40T8QmP8hnJKhP0CJFrb0P9E/PssMXfjS7T86TMzBYEPkPw3YxJJyDew/WHIQZbSB4z/nF43+s1PtPzwl/qSRW9I/YLirzUUPwT/80rCb8MPiP2RIBZCUjd0/dDfzATDN3j+uWBPxNlLZP6gTRG/6D+g/S85GBERd5z/6OtjlPGPaP0O2l79qt+M/hYyPMBqB5T9+DN0Etp/aP8jQgU8Yas8/FBkS68DP7D/EHaK9q+DDP7HaphYi5OM/LMML6P6OzT+s3Lc+ErjOP3iHIsz1acw/wiXZsDAQ2z+RwB+I4cPmPy4/A++lV+E/MuGGHuvY7j9oZ7yaPmm6P3Sgpcdb4t4/XER/j8V92T/uyodFEffWPz7277rdPd8/5Bn5SraA4D/wr6w+RZK9P/rZlNSSptw/UN6K6XIzvT+2xqQShfThP0N4qvgHo+c/DiieB0DW0z9guwhpuc/dPzhBCQkdfrc/xfs25U4X4z/QaW4UXJbOPwaHLDHk0tw/WHvno7fYyT+QG2nMvIjsP6j0K+wkUtM/MTQZN0t54j93sWCmfWnrPwWNLmkfCuo/HoMgpqgf5z8PABax4hzpP1D06iNWtMo/SGnp2nK0yD+opQWKvZm3P/v5ipYj5Og/JJdV6NlP4j/YgxRCbXThP0LNUPqwuOo/GkcvqV8v0z9JmaRt/LDmP9aUK382mOk/APFFXVB7mj/ohfEoVYbmPyl0tWqEdOc/bF6MBse6wz8=\",\"dtype\":\"float64\",\"shape\":[100]},\"y\":{\"__ndarray__\":\"w5XJOwq86D/ObL6yw87aP4ARNWUaecI/wMbkSCM43z+Y5L+ACH+/P/zCDw4vTMs/13pW+iOR5T+AebbnJ5V0P5dasOJoLe4/QHbqnRM/yz/O3crgcZzbP4R64rIvJt0/0KvF6oA51T9dR9czeEjjP74nzVWrteI/vNeer2GA1j+2flRRnD/VP3gzPmxoA9Y/UR/wtTzu6z8EgsFWhHnYP+HnMNWvVOQ/riUDmbnB5z+qiJStlyzeP+Go/1S4z+0/bxrJ6rFa5D9BVV+4sBXpP+DtWXXPIp8/FdouF4yC6j/YnqdK1VvOP0AJ5HPrxts/U3XxRJtl5D/A5ZObL1jAP6QAjuguZOw//G2X7nSAwD9n5vx1cU3vP1b69yZ8ids/ANkNamWC5z+Qs9LYpZ6mP+JUTVuenN4/5BtiRVMZyD+Aoze3vwd/P+by8EB93tQ/GCNAtHCiuz/kfICSASjVP6lkXkJyVuE/EEX5I2Y7oj8003qfQ5/fP87c09gdKNA/CpQHaE8t2T/A5kUkdD6mPwbJc3bbwuM/IE5aWXUn7T9/FhihsO3iP0oCRPsOxNU/cLWEv0oe4j9gWVzIXETBP4zONx7Lzuc/WPskstHC1D98nlgw8Z/mP5z0THIDbsA/EgB1VokP5D/hiO5QvN7qPxAJ2HjYAMM/KSohNjeM5z9xP4VJZx/nP4TXHo2A/9w/p8u5MJsH6z+SyEk/U6ThP7CmAmQMWuQ/DxXi4wEX4z+YuWyYGvTuP64sA64DIeQ/W7/umlHj6z/O0uDqu3vSP6vswTMl4+g/lXm3u9gF4j+YAgDxJ17IP/Q5KF/Oy8c/jv5sirqI6D9gMem1TeGfP3tyazH0hO0/EDEtGzzm7z9IpazxhHHuP+J3dNscfuI/VFwFWK19zD9CICjYFE3UP0WKJUX9qu0/qpSM2LSd2T9jU+vZ4h/iPzj4RFAwIeA/BN/t1Sau7j+Y7CmdU+LeP6ydJdHMV8A/Z0W4fyFQ5T/Q2akk9ZLXP3xei+gIGuA/bj6Xo1nK7T9U49Y+jlDIPxAJjZjqDqc/wHm3ktHUnT8=\",\"dtype\":\"float64\",\"shape\":[100]}},\"selected\":{\"id\":\"1359\",\"type\":\"Selection\"},\"selection_policy\":{\"id\":\"1358\",\"type\":\"UnionRenderers\"}},\"id\":\"1321\",\"type\":\"ColumnDataSource\"}],\"root_ids\":[\"1279\"]},\"title\":\"Bokeh Application\",\"version\":\"1.4.0\"}};\n  var render_items = [{\"docid\":\"4a07ae2c-0d50-425c-9932-86c45ec7f409\",\"roots\":{\"1279\":\"af1c179c-f1f9-46d4-a17d-d51cc5fab2d8\"}}];\n  root.Bokeh.embed.embed_items_notebook(docs_json, render_items);\n\n  }\n  if (root.Bokeh !== undefined) {\n    embed_document(root);\n  } else {\n    var attempts = 0;\n    var timer = setInterval(function(root) {\n      if (root.Bokeh !== undefined) {\n        clearInterval(timer);\n        embed_document(root);\n      } else {\n        attempts++;\n        if (attempts > 100) {\n          clearInterval(timer);\n          console.log(\"Bokeh: ERROR: Unable to run BokehJS code because BokehJS library is missing\");\n        }\n      }\n    }, 10, root)\n  }\n})(window);",
                        "application/vnd.bokehjs_exec.v0+json": ""
                    },
                    "metadata": {
                        "application/vnd.bokehjs_exec.v0+json": {
                            "id": "1279"
                        }
                    },
                    "output_type": "display_data"
                }
            ],
            "source": [
                "# instantiate a figure using the generic figure function created for Bokeh\n",
                "# create a scatter plot by retrieving all the voltage and current values contained within the xrDataArray\n",
                "# and plotting by flattening the array to 1-dimensional\n",
                "\n",
                "fig1 = create_generic_fig(\"Voltage\", \"Current\", frame_height=350, frame_width=350)\n",
                "\n",
                "fig1.scatter(\n",
                "        data.sel(measured_quantity=\"voltage\").values.flatten(),\n",
                "        data.sel(measured_quantity=\"current\").values.flatten(), size=12, marker='square'\n",
                "    )\n",
                "\n",
                "show(fig1)"
            ]
        },
        {
            "cell_type": "code",
            "execution_count": 17,
            "metadata": {},
            "outputs": [
                {
                    "data": {
                        "text/html": [
                            "\n",
                            "\n",
                            "\n",
                            "\n",
                            "\n",
                            "\n",
                            "  <div class=\"bk-root\" id=\"41b5337c-b393-4e5b-bf61-071e01e0950a\" data-root-id=\"1427\"></div>\n"
                        ]
                    },
                    "metadata": {},
                    "output_type": "display_data"
                },
                {
                    "data": {
                        "application/javascript": "(function(root) {\n  function embed_document(root) {\n    \n  var docs_json = {\"7cc8c021-cf2d-4d12-98b7-030e707dfb94\":{\"roots\":{\"references\":[{\"attributes\":{\"above\":[{\"id\":\"1464\",\"type\":\"LinearAxis\"}],\"below\":[{\"id\":\"1436\",\"type\":\"LinearAxis\"}],\"center\":[{\"id\":\"1440\",\"type\":\"Grid\"},{\"id\":\"1445\",\"type\":\"Grid\"}],\"frame_height\":350,\"frame_width\":350,\"left\":[{\"id\":\"1441\",\"type\":\"LinearAxis\"}],\"min_border_bottom\":80,\"min_border_left\":80,\"min_border_right\":40,\"min_border_top\":40,\"output_backend\":\"svg\",\"renderers\":[{\"id\":\"1474\",\"type\":\"GlyphRenderer\"}],\"right\":[{\"id\":\"1467\",\"type\":\"LinearAxis\"},{\"id\":\"1476\",\"type\":\"ColorBar\"}],\"title\":{\"id\":\"1513\",\"type\":\"Title\"},\"toolbar\":{\"id\":\"1454\",\"type\":\"Toolbar\"},\"x_range\":{\"id\":\"1428\",\"type\":\"Range1d\"},\"x_scale\":{\"id\":\"1432\",\"type\":\"LinearScale\"},\"y_range\":{\"id\":\"1430\",\"type\":\"Range1d\"},\"y_scale\":{\"id\":\"1434\",\"type\":\"LinearScale\"}},\"id\":\"1427\",\"subtype\":\"Figure\",\"type\":\"Plot\"},{\"attributes\":{\"axis_line_width\":{\"value\":3},\"formatter\":{\"id\":\"1514\",\"type\":\"BasicTickFormatter\"},\"major_label_text_color\":{\"value\":null},\"major_label_text_font_size\":{\"value\":\"0pt\"},\"major_tick_in\":0,\"major_tick_line_color\":{\"value\":null},\"major_tick_line_width\":{\"value\":3},\"major_tick_out\":20,\"minor_tick_in\":10,\"minor_tick_line_color\":{\"value\":null},\"minor_tick_line_width\":{\"value\":3},\"minor_tick_out\":0,\"name\":\"ax2above\",\"ticker\":{\"id\":\"1437\",\"type\":\"BasicTicker\"}},\"id\":\"1464\",\"type\":\"LinearAxis\"},{\"attributes\":{},\"id\":\"1437\",\"type\":\"BasicTicker\"},{\"attributes\":{},\"id\":\"1514\",\"type\":\"BasicTickFormatter\"},{\"attributes\":{\"active_drag\":{\"id\":\"1448\",\"type\":\"PanTool\"},\"active_inspect\":\"auto\",\"active_multi\":null,\"active_scroll\":{\"id\":\"1450\",\"type\":\"WheelZoomTool\"},\"active_tap\":{\"id\":\"1446\",\"type\":\"TapTool\"},\"tools\":[{\"id\":\"1446\",\"type\":\"TapTool\"},{\"id\":\"1447\",\"type\":\"HoverTool\"},{\"id\":\"1448\",\"type\":\"PanTool\"},{\"id\":\"1449\",\"type\":\"BoxZoomTool\"},{\"id\":\"1450\",\"type\":\"WheelZoomTool\"},{\"id\":\"1451\",\"type\":\"UndoTool\"},{\"id\":\"1452\",\"type\":\"ResetTool\"},{\"id\":\"1453\",\"type\":\"SaveTool\"}]},\"id\":\"1454\",\"type\":\"Toolbar\"},{\"attributes\":{\"callback\":null,\"end\":5.5,\"start\":0.5},\"id\":\"1430\",\"type\":\"Range1d\"},{\"attributes\":{\"callback\":null,\"end\":5.5,\"start\":0.5},\"id\":\"1428\",\"type\":\"Range1d\"},{\"attributes\":{\"callback\":null},\"id\":\"1446\",\"type\":\"TapTool\"},{\"attributes\":{},\"id\":\"1448\",\"type\":\"PanTool\"},{\"attributes\":{\"callback\":null,\"tooltips\":[[\"index\",\"$index\"],[\"(x,y)\",\"($x, $y)\"]]},\"id\":\"1447\",\"type\":\"HoverTool\"},{\"attributes\":{\"axis_line_width\":{\"value\":3},\"formatter\":{\"id\":\"1519\",\"type\":\"BasicTickFormatter\"},\"major_label_text_color\":{\"value\":null},\"major_label_text_font_size\":{\"value\":\"0pt\"},\"major_tick_in\":0,\"major_tick_line_color\":{\"value\":null},\"major_tick_line_width\":{\"value\":3},\"major_tick_out\":20,\"minor_tick_in\":10,\"minor_tick_line_color\":{\"value\":null},\"minor_tick_line_width\":{\"value\":3},\"minor_tick_out\":0,\"name\":\"ax2above\",\"ticker\":{\"id\":\"1442\",\"type\":\"BasicTicker\"}},\"id\":\"1467\",\"type\":\"LinearAxis\"},{\"attributes\":{},\"id\":\"1432\",\"type\":\"LinearScale\"},{\"attributes\":{\"fill_color\":{\"field\":\"val\",\"transform\":{\"id\":\"1469\",\"type\":\"LinearColorMapper\"}},\"height\":{\"units\":\"data\",\"value\":1},\"line_color\":{\"value\":\"#1f77b4\"},\"width\":{\"units\":\"data\",\"value\":1},\"x\":{\"field\":\"columns\"},\"y\":{\"field\":\"rows\"}},\"id\":\"1472\",\"type\":\"Rect\"},{\"attributes\":{\"overlay\":{\"id\":\"1524\",\"type\":\"BoxAnnotation\"}},\"id\":\"1449\",\"type\":\"BoxZoomTool\"},{\"attributes\":{},\"id\":\"1520\",\"type\":\"BasicTicker\"},{\"attributes\":{},\"id\":\"1521\",\"type\":\"BasicTickFormatter\"},{\"attributes\":{},\"id\":\"1434\",\"type\":\"LinearScale\"},{\"attributes\":{},\"id\":\"1450\",\"type\":\"WheelZoomTool\"},{\"attributes\":{\"bottom_units\":\"screen\",\"fill_alpha\":{\"value\":0.5},\"fill_color\":{\"value\":\"lightgrey\"},\"left_units\":\"screen\",\"level\":\"overlay\",\"line_alpha\":{\"value\":1.0},\"line_color\":{\"value\":\"black\"},\"line_dash\":[4,4],\"line_width\":{\"value\":2},\"render_mode\":\"css\",\"right_units\":\"screen\",\"top_units\":\"screen\"},\"id\":\"1524\",\"type\":\"BoxAnnotation\"},{\"attributes\":{},\"id\":\"1451\",\"type\":\"UndoTool\"},{\"attributes\":{\"fill_alpha\":{\"value\":0.1},\"fill_color\":{\"value\":\"#1f77b4\"},\"height\":{\"units\":\"data\",\"value\":1},\"line_alpha\":{\"value\":0.1},\"line_color\":{\"value\":\"#1f77b4\"},\"width\":{\"units\":\"data\",\"value\":1},\"x\":{\"field\":\"columns\"},\"y\":{\"field\":\"rows\"}},\"id\":\"1473\",\"type\":\"Rect\"},{\"attributes\":{\"axis_label\":\"Column\",\"axis_label_text_color\":{\"value\":\"black\"},\"axis_label_text_font\":\"Helvetica\",\"axis_label_text_font_size\":{\"value\":\"28.0px\"},\"axis_label_text_font_style\":\"normal\",\"axis_line_width\":{\"value\":3},\"formatter\":{\"id\":\"1516\",\"type\":\"BasicTickFormatter\"},\"major_label_standoff\":10,\"major_label_text_color\":{\"value\":\"black\"},\"major_label_text_font_size\":{\"value\":\"18.666666666666668px\"},\"major_tick_in\":0,\"major_tick_line_width\":{\"value\":3},\"major_tick_out\":20,\"minor_tick_in\":10,\"minor_tick_line_color\":{\"value\":null},\"minor_tick_line_width\":{\"value\":3},\"minor_tick_out\":0,\"ticker\":{\"id\":\"1437\",\"type\":\"BasicTicker\"}},\"id\":\"1436\",\"type\":\"LinearAxis\"},{\"attributes\":{\"data_source\":{\"id\":\"1470\",\"type\":\"ColumnDataSource\"},\"glyph\":{\"id\":\"1472\",\"type\":\"Rect\"},\"hover_glyph\":null,\"muted_glyph\":null,\"nonselection_glyph\":{\"id\":\"1473\",\"type\":\"Rect\"},\"selection_glyph\":null,\"view\":{\"id\":\"1475\",\"type\":\"CDSView\"}},\"id\":\"1474\",\"type\":\"GlyphRenderer\"},{\"attributes\":{},\"id\":\"1452\",\"type\":\"ResetTool\"},{\"attributes\":{\"grid_line_color\":null,\"ticker\":{\"id\":\"1437\",\"type\":\"BasicTicker\"}},\"id\":\"1440\",\"type\":\"Grid\"},{\"attributes\":{},\"id\":\"1453\",\"type\":\"SaveTool\"},{\"attributes\":{},\"id\":\"1516\",\"type\":\"BasicTickFormatter\"},{\"attributes\":{},\"id\":\"1442\",\"type\":\"BasicTicker\"},{\"attributes\":{\"axis_label\":\"Row\",\"axis_label_standoff\":20,\"axis_label_text_color\":{\"value\":\"black\"},\"axis_label_text_font\":\"Helvetica\",\"axis_label_text_font_size\":{\"value\":\"28.0px\"},\"axis_label_text_font_style\":\"normal\",\"axis_line_width\":{\"value\":3},\"formatter\":{\"id\":\"1518\",\"type\":\"BasicTickFormatter\"},\"major_label_standoff\":10,\"major_label_text_color\":{\"value\":\"black\"},\"major_label_text_font_size\":{\"value\":\"18.666666666666668px\"},\"major_tick_in\":0,\"major_tick_line_width\":{\"value\":3},\"major_tick_out\":20,\"minor_tick_in\":10,\"minor_tick_line_color\":{\"value\":null},\"minor_tick_line_width\":{\"value\":3},\"minor_tick_out\":0,\"ticker\":{\"id\":\"1442\",\"type\":\"BasicTicker\"}},\"id\":\"1441\",\"type\":\"LinearAxis\"},{\"attributes\":{\"source\":{\"id\":\"1470\",\"type\":\"ColumnDataSource\"}},\"id\":\"1475\",\"type\":\"CDSView\"},{\"attributes\":{\"callback\":null,\"data\":{\"columns\":{\"__ndarray__\":\"AQAAAAIAAAADAAAABAAAAAUAAAABAAAAAgAAAAMAAAAEAAAABQAAAAEAAAACAAAAAwAAAAQAAAAFAAAAAQAAAAIAAAADAAAABAAAAAUAAAABAAAAAgAAAAMAAAAEAAAABQAAAA==\",\"dtype\":\"int32\",\"shape\":[25]},\"rows\":{\"__ndarray__\":\"AQAAAAEAAAABAAAAAQAAAAEAAAACAAAAAgAAAAIAAAACAAAAAgAAAAMAAAADAAAAAwAAAAMAAAADAAAABAAAAAQAAAAEAAAABAAAAAQAAAAFAAAABQAAAAUAAAAFAAAABQAAAA==\",\"dtype\":\"int32\",\"shape\":[25]},\"val\":{\"__ndarray__\":\"wMbkSCM43z+AebbnJ5V0P4R64rIvJt0/vNeer2GA1j8EgsFWhHnYP+Go/1S4z+0/FdouF4yC6j/A5ZObL1jAP1b69yZ8ids/5BtiRVMZyD/kfICSASjVP87c09gdKNA/IE5aWXUn7T9gWVzIXETBP5z0THIDbsA/KSohNjeM5z+SyEk/U6ThP64sA64DIeQ/lXm3u9gF4j9gMem1TeGfP+J3dNscfuI/qpSM2LSd2T+Y7CmdU+LeP3xei+gIGuA/wHm3ktHUnT8=\",\"dtype\":\"float64\",\"shape\":[25]}},\"selected\":{\"id\":\"1523\",\"type\":\"Selection\"},\"selection_policy\":{\"id\":\"1522\",\"type\":\"UnionRenderers\"}},\"id\":\"1470\",\"type\":\"ColumnDataSource\"},{\"attributes\":{\"dimension\":1,\"grid_line_color\":null,\"ticker\":{\"id\":\"1442\",\"type\":\"BasicTicker\"}},\"id\":\"1445\",\"type\":\"Grid\"},{\"attributes\":{},\"id\":\"1523\",\"type\":\"Selection\"},{\"attributes\":{\"bar_line_color\":{\"value\":\"black\"},\"bar_line_width\":{\"value\":3},\"color_mapper\":{\"id\":\"1469\",\"type\":\"LinearColorMapper\"},\"formatter\":{\"id\":\"1521\",\"type\":\"BasicTickFormatter\"},\"label_standoff\":9,\"location\":[10,0],\"major_label_text_color\":{\"value\":\"black\"},\"major_label_text_font_size\":{\"value\":\"18.666666666666668px\"},\"major_tick_in\":10,\"major_tick_line_color\":{\"value\":\"black\"},\"major_tick_line_width\":{\"value\":3},\"ticker\":{\"id\":\"1520\",\"type\":\"BasicTicker\"},\"width\":18},\"id\":\"1476\",\"type\":\"ColorBar\"},{\"attributes\":{},\"id\":\"1518\",\"type\":\"BasicTickFormatter\"},{\"attributes\":{},\"id\":\"1519\",\"type\":\"BasicTickFormatter\"},{\"attributes\":{\"high\":1,\"low\":0,\"palette\":[\"#440154\",\"#440255\",\"#440357\",\"#450558\",\"#45065A\",\"#45085B\",\"#46095C\",\"#460B5E\",\"#460C5F\",\"#460E61\",\"#470F62\",\"#471163\",\"#471265\",\"#471466\",\"#471567\",\"#471669\",\"#47186A\",\"#48196B\",\"#481A6C\",\"#481C6E\",\"#481D6F\",\"#481E70\",\"#482071\",\"#482172\",\"#482273\",\"#482374\",\"#472575\",\"#472676\",\"#472777\",\"#472878\",\"#472A79\",\"#472B7A\",\"#472C7B\",\"#462D7C\",\"#462F7C\",\"#46307D\",\"#46317E\",\"#45327F\",\"#45347F\",\"#453580\",\"#453681\",\"#443781\",\"#443982\",\"#433A83\",\"#433B83\",\"#433C84\",\"#423D84\",\"#423E85\",\"#424085\",\"#414186\",\"#414286\",\"#404387\",\"#404487\",\"#3F4587\",\"#3F4788\",\"#3E4888\",\"#3E4989\",\"#3D4A89\",\"#3D4B89\",\"#3D4C89\",\"#3C4D8A\",\"#3C4E8A\",\"#3B508A\",\"#3B518A\",\"#3A528B\",\"#3A538B\",\"#39548B\",\"#39558B\",\"#38568B\",\"#38578C\",\"#37588C\",\"#37598C\",\"#365A8C\",\"#365B8C\",\"#355C8C\",\"#355D8C\",\"#345E8D\",\"#345F8D\",\"#33608D\",\"#33618D\",\"#32628D\",\"#32638D\",\"#31648D\",\"#31658D\",\"#31668D\",\"#30678D\",\"#30688D\",\"#2F698D\",\"#2F6A8D\",\"#2E6B8E\",\"#2E6C8E\",\"#2E6D8E\",\"#2D6E8E\",\"#2D6F8E\",\"#2C708E\",\"#2C718E\",\"#2C728E\",\"#2B738E\",\"#2B748E\",\"#2A758E\",\"#2A768E\",\"#2A778E\",\"#29788E\",\"#29798E\",\"#287A8E\",\"#287A8E\",\"#287B8E\",\"#277C8E\",\"#277D8E\",\"#277E8E\",\"#267F8E\",\"#26808E\",\"#26818E\",\"#25828E\",\"#25838D\",\"#24848D\",\"#24858D\",\"#24868D\",\"#23878D\",\"#23888D\",\"#23898D\",\"#22898D\",\"#228A8D\",\"#228B8D\",\"#218C8D\",\"#218D8C\",\"#218E8C\",\"#208F8C\",\"#20908C\",\"#20918C\",\"#1F928C\",\"#1F938B\",\"#1F948B\",\"#1F958B\",\"#1F968B\",\"#1E978A\",\"#1E988A\",\"#1E998A\",\"#1E998A\",\"#1E9A89\",\"#1E9B89\",\"#1E9C89\",\"#1E9D88\",\"#1E9E88\",\"#1E9F88\",\"#1EA087\",\"#1FA187\",\"#1FA286\",\"#1FA386\",\"#20A485\",\"#20A585\",\"#21A685\",\"#21A784\",\"#22A784\",\"#23A883\",\"#23A982\",\"#24AA82\",\"#25AB81\",\"#26AC81\",\"#27AD80\",\"#28AE7F\",\"#29AF7F\",\"#2AB07E\",\"#2BB17D\",\"#2CB17D\",\"#2EB27C\",\"#2FB37B\",\"#30B47A\",\"#32B57A\",\"#33B679\",\"#35B778\",\"#36B877\",\"#38B976\",\"#39B976\",\"#3BBA75\",\"#3DBB74\",\"#3EBC73\",\"#40BD72\",\"#42BE71\",\"#44BE70\",\"#45BF6F\",\"#47C06E\",\"#49C16D\",\"#4BC26C\",\"#4DC26B\",\"#4FC369\",\"#51C468\",\"#53C567\",\"#55C666\",\"#57C665\",\"#59C764\",\"#5BC862\",\"#5EC961\",\"#60C960\",\"#62CA5F\",\"#64CB5D\",\"#67CC5C\",\"#69CC5B\",\"#6BCD59\",\"#6DCE58\",\"#70CE56\",\"#72CF55\",\"#74D054\",\"#77D052\",\"#79D151\",\"#7CD24F\",\"#7ED24E\",\"#81D34C\",\"#83D34B\",\"#86D449\",\"#88D547\",\"#8BD546\",\"#8DD644\",\"#90D643\",\"#92D741\",\"#95D73F\",\"#97D83E\",\"#9AD83C\",\"#9DD93A\",\"#9FD938\",\"#A2DA37\",\"#A5DA35\",\"#A7DB33\",\"#AADB32\",\"#ADDC30\",\"#AFDC2E\",\"#B2DD2C\",\"#B5DD2B\",\"#B7DD29\",\"#BADE27\",\"#BDDE26\",\"#BFDF24\",\"#C2DF22\",\"#C5DF21\",\"#C7E01F\",\"#CAE01E\",\"#CDE01D\",\"#CFE11C\",\"#D2E11B\",\"#D4E11A\",\"#D7E219\",\"#DAE218\",\"#DCE218\",\"#DFE318\",\"#E1E318\",\"#E4E318\",\"#E7E419\",\"#E9E419\",\"#ECE41A\",\"#EEE51B\",\"#F1E51C\",\"#F3E51E\",\"#F6E61F\",\"#F8E621\",\"#FAE622\",\"#FDE724\"]},\"id\":\"1469\",\"type\":\"LinearColorMapper\"},{\"attributes\":{\"text\":\"\"},\"id\":\"1513\",\"type\":\"Title\"},{\"attributes\":{},\"id\":\"1522\",\"type\":\"UnionRenderers\"}],\"root_ids\":[\"1427\"]},\"title\":\"Bokeh Application\",\"version\":\"1.4.0\"}};\n  var render_items = [{\"docid\":\"7cc8c021-cf2d-4d12-98b7-030e707dfb94\",\"roots\":{\"1427\":\"41b5337c-b393-4e5b-bf61-071e01e0950a\"}}];\n  root.Bokeh.embed.embed_items_notebook(docs_json, render_items);\n\n  }\n  if (root.Bokeh !== undefined) {\n    embed_document(root);\n  } else {\n    var attempts = 0;\n    var timer = setInterval(function(root) {\n      if (root.Bokeh !== undefined) {\n        clearInterval(timer);\n        embed_document(root);\n      } else {\n        attempts++;\n        if (attempts > 100) {\n          clearInterval(timer);\n          console.log(\"Bokeh: ERROR: Unable to run BokehJS code because BokehJS library is missing\");\n        }\n      }\n    }, 10, root)\n  }\n})(window);",
                        "application/vnd.bokehjs_exec.v0+json": ""
                    },
                    "metadata": {
                        "application/vnd.bokehjs_exec.v0+json": {
                            "id": "1427"
                        }
                    },
                    "output_type": "display_data"
                }
            ],
            "source": [
                "# first create a grid and retrieve the row/column numbers as a flattened array for rows (r) and columns (c)\n",
                "# get a slice of the 4-dimensional xrDataArray that shows the 5x5 array for the current on the 3rd cycle\n",
                "# map the randomized values between 0-1 onto the Viridis256 color palette provided by Bokeh\n",
                "# and plot the corresponding color as a square on the 5x5 array\n",
                "# include a colorbar to the right of the figure to indicate what values the colors represent\n",
                "\n",
                "r, c = np.mgrid[1:6, 1:6]\n",
                "r = r.flatten()\n",
                "c = c.flatten()\n",
                "\n",
                "plot_data = dict(rows=r, columns=c, val=data.sel(measured_quantity=\"current\", cycle_num=3).values.flatten())\n",
                "\n",
                "fig2 = create_generic_fig(\"Column\", \"Row\", frame_height=350, frame_width=350, x_range=(0.5, 5.5), y_range=(0.5, 5.5))\n",
                "\n",
                "mapper = LinearColorMapper(palette=Viridis256, low=0, high=1)\n",
                "\n",
                "fig2.rect(\"columns\", \"rows\", source=plot_data, width=1, height=1, fill_color={\"field\": \"val\", \"transform\": mapper})\n",
                "\n",
                "color_bar = ColorBar(\n",
                "    color_mapper=mapper,\n",
                "    location=(10, 0),\n",
                "    bar_line_color=\"black\",\n",
                "    bar_line_width=3,\n",
                "    width=int(fig2.frame_width * (12 / 225)),\n",
                "    major_label_text_font_size=\"{}px\".format(fig2.frame_width * (12 / 225)),\n",
                "    major_label_text_color=\"black\",\n",
                "    label_standoff=int(fig2.frame_width * (6 / 225)),\n",
                "    major_tick_line_color=\"black\",\n",
                "    major_tick_line_width=3,\n",
                "    major_tick_in=10,\n",
                ")\n",
                "\n",
                "fig2.add_layout(color_bar, \"right\")\n",
                "\n",
                "show(fig2)"
            ]
        }
    ],
    "metadata": {
        "kernelspec": {
            "display_name": "base",
            "language": "python",
            "name": "python3"
        },
        "language_info": {
            "codemirror_mode": {
                "name": "ipython",
                "version": 3
            },
            "file_extension": ".py",
            "mimetype": "text/x-python",
            "name": "python",
            "nbconvert_exporter": "python",
            "pygments_lexer": "ipython3",
            "version": "3.7.6"
        },
        "orig_nbformat": 4,
        "vscode": {
            "interpreter": {
                "hash": "86bdbd2e02595ccabd20684cfd7fca24e305ed8fcad87d075817bd8fae293a81"
            }
        }
    },
    "nbformat": 4,
    "nbformat_minor": 2
}
